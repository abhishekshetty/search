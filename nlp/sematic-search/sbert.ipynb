{
 "cells": [
  {
   "cell_type": "code",
   "execution_count": null,
   "metadata": {},
   "outputs": [],
   "source": [
    "# Install the library using pip\n",
    "%pip install sentence-transformers"
   ]
  },
  {
   "cell_type": "code",
   "execution_count": 1,
   "metadata": {},
   "outputs": [
    {
     "name": "stderr",
     "output_type": "stream",
     "text": [
      "/home/codespace/.python/current/lib/python3.10/site-packages/tqdm/auto.py:22: TqdmWarning: IProgress not found. Please update jupyter and ipywidgets. See https://ipywidgets.readthedocs.io/en/stable/user_install.html\n",
      "  from .autonotebook import tqdm as notebook_tqdm\n"
     ]
    }
   ],
   "source": [
    "\n",
    "from sentence_transformers import SentenceTransformer, util\n",
    "import torch\n",
    "import pandas as pd"
   ]
  },
  {
   "cell_type": "code",
   "execution_count": 10,
   "metadata": {},
   "outputs": [
    {
     "data": {
      "text/html": [
       "<div>\n",
       "<style scoped>\n",
       "    .dataframe tbody tr th:only-of-type {\n",
       "        vertical-align: middle;\n",
       "    }\n",
       "\n",
       "    .dataframe tbody tr th {\n",
       "        vertical-align: top;\n",
       "    }\n",
       "\n",
       "    .dataframe thead th {\n",
       "        text-align: right;\n",
       "    }\n",
       "</style>\n",
       "<table border=\"1\" class=\"dataframe\">\n",
       "  <thead>\n",
       "    <tr style=\"text-align: right;\">\n",
       "      <th></th>\n",
       "      <th>publish_date</th>\n",
       "      <th>headline_category</th>\n",
       "      <th>headline_text</th>\n",
       "    </tr>\n",
       "  </thead>\n",
       "  <tbody>\n",
       "    <tr>\n",
       "      <th>0</th>\n",
       "      <td>20220101</td>\n",
       "      <td>astrology.horoscope.yearly</td>\n",
       "      <td>Aries Horoscope 2022: Yearly Predictions</td>\n",
       "    </tr>\n",
       "    <tr>\n",
       "      <th>1</th>\n",
       "      <td>20220101</td>\n",
       "      <td>astrology.horoscope.yearly</td>\n",
       "      <td>Taurus Horoscope 2022: Yearly Predictions</td>\n",
       "    </tr>\n",
       "    <tr>\n",
       "      <th>2</th>\n",
       "      <td>20220101</td>\n",
       "      <td>astrology.horoscope.yearly</td>\n",
       "      <td>Gemini Horoscope 2022: Yearly Predictions</td>\n",
       "    </tr>\n",
       "    <tr>\n",
       "      <th>3</th>\n",
       "      <td>20220101</td>\n",
       "      <td>astrology.horoscope.yearly</td>\n",
       "      <td>Cancer Horoscope 2022: Yearly Predictions</td>\n",
       "    </tr>\n",
       "    <tr>\n",
       "      <th>4</th>\n",
       "      <td>20220101</td>\n",
       "      <td>astrology.horoscope.yearly</td>\n",
       "      <td>Leo Horoscope 2022: Yearly Predictions</td>\n",
       "    </tr>\n",
       "  </tbody>\n",
       "</table>\n",
       "</div>"
      ],
      "text/plain": [
       "   publish_date           headline_category  \\\n",
       "0      20220101  astrology.horoscope.yearly   \n",
       "1      20220101  astrology.horoscope.yearly   \n",
       "2      20220101  astrology.horoscope.yearly   \n",
       "3      20220101  astrology.horoscope.yearly   \n",
       "4      20220101  astrology.horoscope.yearly   \n",
       "\n",
       "                               headline_text  \n",
       "0   Aries Horoscope 2022: Yearly Predictions  \n",
       "1  Taurus Horoscope 2022: Yearly Predictions  \n",
       "2  Gemini Horoscope 2022: Yearly Predictions  \n",
       "3  Cancer Horoscope 2022: Yearly Predictions  \n",
       "4     Leo Horoscope 2022: Yearly Predictions  "
      ]
     },
     "execution_count": 10,
     "metadata": {},
     "output_type": "execute_result"
    }
   ],
   "source": [
    "df = pd.read_csv(\"./data/data.csv\")\n",
    "df.head()\n"
   ]
  },
  {
   "cell_type": "code",
   "execution_count": 11,
   "metadata": {},
   "outputs": [],
   "source": [
    "embedder = SentenceTransformer('all-MiniLM-L6-v2')\n",
    "\n",
    "# Corpus with example sentences\n",
    "corpus = df['headline_text']\n",
    "corpus_embeddings = embedder.encode(corpus, convert_to_tensor=True)\n"
   ]
  },
  {
   "cell_type": "code",
   "execution_count": 14,
   "metadata": {},
   "outputs": [
    {
     "name": "stdout",
     "output_type": "stream",
     "text": [
      "Semantic Search Results\n",
      "Budget makes India future ready; says Haribhakti (Score: 0.6891)\n",
      "Who presented most number of budgets in India? (Score: 0.6782)\n",
      "India seen boosting budget spending on infrastructure (Score: 0.6526)\n",
      "Dist panchayat budget presented (Score: 0.6354)\n",
      "Session from March 23; Delhi govt to present 'Swaraj Budget' (Score: 0.6196)\n"
     ]
    }
   ],
   "source": [
    "query = 'India budget outlook'\n",
    "query_embedding = embedder.encode(query, convert_to_tensor=True)\n",
    "\n",
    "# Find the closest 3 sentences of the corpus for each query sentence based on cosine similarity\n",
    "number_top_matches = 3 #@param {type: \"number\"}\n",
    "\n",
    "print(\"Semantic Search Results\")\n",
    "\n",
    "hits = util.semantic_search(query_embedding, corpus_embeddings, top_k=5)\n",
    "hits = hits[0]      #Get the hits for the first query\n",
    "for hit in hits:\n",
    "    print(corpus[hit['corpus_id']], \"(Score: {:.4f})\".format(hit['score']))\n"
   ]
  }
 ],
 "metadata": {
  "kernelspec": {
   "display_name": "Python 3",
   "language": "python",
   "name": "python3"
  },
  "language_info": {
   "codemirror_mode": {
    "name": "ipython",
    "version": 3
   },
   "file_extension": ".py",
   "mimetype": "text/x-python",
   "name": "python",
   "nbconvert_exporter": "python",
   "pygments_lexer": "ipython3",
   "version": "3.10.4"
  },
  "orig_nbformat": 4,
  "vscode": {
   "interpreter": {
    "hash": "3ad933181bd8a04b432d3370b9dc3b0662ad032c4dfaa4e4f1596c548f763858"
   }
  }
 },
 "nbformat": 4,
 "nbformat_minor": 2
}
